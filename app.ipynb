{
 "cells": [
  {
   "cell_type": "code",
   "execution_count": 2,
   "id": "735888ea-0e81-42fd-a8fa-6611481aec6b",
   "metadata": {},
   "outputs": [],
   "source": [
    "%%capture\n",
    "\n",
    "!pip install ultralytics\n",
    "!pip install shapely\n",
    "\n",
    "#install important packages"
   ]
  },
  {
   "cell_type": "code",
   "execution_count": 3,
   "id": "8d99adf1-e7df-482a-9675-25f814d7f37c",
   "metadata": {},
   "outputs": [],
   "source": [
    "from ultralytics import YOLO\n",
    "\n",
    "from matplotlib.pyplot import figure\n",
    "import matplotlib.image as image\n",
    "from matplotlib import pyplot as plt\n",
    "\n",
    "\n",
    "import pandas as pd\n",
    "import numpy as np\n",
    "from numpy import asarray\n",
    "from PIL import Image\n",
    "\n",
    "import cv2\n",
    "\n",
    "from shapely.geometry import Polygon\n"
   ]
  },
  {
   "cell_type": "code",
   "execution_count": 2,
   "id": "1d57af04-a1a7-4e7c-9a63-153ce038eed2",
   "metadata": {
    "ExecuteTime": {
     "end_time": "2024-01-25T12:55:42.430080Z",
     "start_time": "2024-01-25T12:55:42.421836Z"
    }
   },
   "outputs": [],
   "source": [
    "def order_points(pts):\n",
    "    \n",
    "    # order a list of 4 coordinates:\n",
    "    # 0: top-left,\n",
    "    # 1: top-right\n",
    "    # 2: bottom-right,\n",
    "    # 3: bottom-left\n",
    "    \n",
    "    rect = np.zeros((4, 2), dtype = \"float32\")\n",
    "    s = pts.sum(axis = 1)\n",
    "    rect[0] = pts[np.argmin(s)]\n",
    "    rect[2] = pts[np.argmax(s)]\n",
    "    \n",
    "    diff = np.diff(pts, axis = 1)\n",
    "    rect[1] = pts[np.argmin(diff)]\n",
    "    rect[3] = pts[np.argmax(diff)]\n",
    "    \n",
    "    return rect"
   ]
  },
  {
   "cell_type": "code",
   "execution_count": 3,
   "id": "90cc1bcb-b87d-4e0b-9bee-ebab73ed4e06",
   "metadata": {
    "ExecuteTime": {
     "end_time": "2024-01-25T12:55:42.965472Z",
     "start_time": "2024-01-25T12:55:42.959586Z"
    }
   },
   "outputs": [],
   "source": [
    "# calculates iou between two polygons\n",
    "\n",
    "def calculate_iou(box_1, box_2):\n",
    "    poly_1 = Polygon(box_1)\n",
    "    poly_2 = Polygon(box_2)\n",
    "    iou = poly_1.intersection(poly_2).area / poly_1.union(poly_2).area\n",
    "    return iou"
   ]
  },
  {
   "cell_type": "code",
   "execution_count": 4,
   "id": "2ab149be-222c-40cb-b28a-2dc0302094e3",
   "metadata": {
    "ExecuteTime": {
     "end_time": "2024-01-25T12:55:43.498031Z",
     "start_time": "2024-01-25T12:55:43.490247Z"
    }
   },
   "outputs": [],
   "source": [
    "def detect_corners(image):\n",
    "    \n",
    "    # YOLO model trained to detect corners on a chessboard\n",
    "    model_trained = YOLO(\"weights/best_my_corners.pt\")\n",
    "    results = model_trained.predict(source=image, line_width=1, conf=0.25, save_txt=True, save=True)\n",
    "\n",
    "    # get the corners coordinates from the model\n",
    "    boxes = results[0].boxes\n",
    "    arr = boxes.xywh.numpy()\n",
    "    points = arr[:,0:2]\n",
    "    \n",
    "    corners = order_points(points)\n",
    "    \n",
    "    return corners  "
   ]
  },
  {
   "cell_type": "code",
   "execution_count": 5,
   "id": "11b66c04-b68d-4a5e-b6bd-13026ef7ed87",
   "metadata": {
    "ExecuteTime": {
     "end_time": "2024-01-25T12:55:43.965842Z",
     "start_time": "2024-01-25T12:55:43.950441Z"
    }
   },
   "outputs": [],
   "source": [
    "# perspective transforms an image with four given corners\n",
    "\n",
    "def four_point_transform(image, pts):\n",
    "      \n",
    "    img = Image.open(image)\n",
    "    image = asarray(img)\n",
    "    rect = order_points(pts)\n",
    "    (tl, tr, br, bl) = rect\n",
    "\n",
    "    # compute the width of the new image\n",
    "    widthA = np.sqrt(((br[0] - bl[0]) ** 2) + ((br[1] - bl[1]) ** 2))\n",
    "    widthB = np.sqrt(((tr[0] - tl[0]) ** 2) + ((tr[1] - tl[1]) ** 2))\n",
    "    maxWidth = max(int(widthA), int(widthB))\n",
    "   \n",
    "\n",
    "    # compute the height of the new image\n",
    "    heightA = np.sqrt(((tr[0] - br[0]) ** 2) + ((tr[1] - br[1]) ** 2))\n",
    "    heightB = np.sqrt(((tl[0] - bl[0]) ** 2) + ((tl[1] - bl[1]) ** 2))\n",
    "    maxHeight = max(int(heightA), int(heightB))\n",
    "\n",
    "    # construct set of destination points to obtain a \"birds eye view\"\n",
    "    dst = np.array([\n",
    "        [0, 0],\n",
    "        [maxWidth - 1, 0],\n",
    "        [maxWidth - 1, maxHeight - 1],\n",
    "        [0, maxHeight - 1]], dtype = \"float32\")\n",
    "\n",
    "    # compute the perspective transform matrix and then apply it\n",
    "    M = cv2.getPerspectiveTransform(rect, dst)\n",
    "    warped = cv2.warpPerspective(image, M, (maxWidth, maxHeight))\n",
    "    \n",
    "    img = Image.fromarray(warped, \"RGB\")\n",
    "    #img.show()    \n",
    "    # return the warped image\n",
    "    return img"
   ]
  },
  {
   "cell_type": "code",
   "execution_count": 6,
   "id": "cd2a2eac-8c62-4c76-9186-16460d5553e3",
   "metadata": {
    "ExecuteTime": {
     "end_time": "2024-01-25T12:55:44.385927Z",
     "start_time": "2024-01-25T12:55:44.371067Z"
    }
   },
   "outputs": [],
   "source": [
    "# calculates chessboard grid\n",
    "\n",
    "def plot_grid_on_transformed_image(image):\n",
    "\n",
    "    offset = 15\n",
    "    \n",
    "    corners = np.array([[0+offset,0+offset], # Top Left\n",
    "                    [image.size[0]-offset, 0+offset], # Top Right\n",
    "                    [0+offset, image.size[1]-offset], # Bottom Left\n",
    "                    [image.size[0]-offset, image.size[1]-offset]]) # Bottom Right\n",
    "    \n",
    "    corners = order_points(corners)\n",
    "\n",
    "    figure(figsize=(10, 10), dpi=80)\n",
    "\n",
    "    # im = plt.imread(image)\n",
    "    implot = plt.imshow(image)\n",
    "    \n",
    "    TL = corners[0]\n",
    "    BL = corners[3]\n",
    "    TR = corners[1]\n",
    "    BR = corners[2]\n",
    "\n",
    "    def interpolate(xy0, xy1):\n",
    "        x0,y0 = xy0\n",
    "        x1,y1 = xy1\n",
    "        dx = (x1-x0) / 8\n",
    "        dy = (y1-y0) / 8\n",
    "        pts = [(x0+i*dx,y0+i*dy) for i in range(9)]\n",
    "        return pts\n",
    "\n",
    "    ptsT = interpolate( TL, TR )\n",
    "    ptsL = interpolate( TL, BL )\n",
    "    ptsR = interpolate( TR, BR )\n",
    "    ptsB = interpolate( BL, BR )\n",
    "        \n",
    "    for a,b in zip(ptsL, ptsR):\n",
    "        plt.plot( [a[0], b[0]], [a[1], b[1]], 'ro', linestyle=\"--\" )\n",
    "    for a,b in zip(ptsT, ptsB):\n",
    "        plt.plot( [a[0], b[0]], [a[1], b[1]], 'ro', linestyle=\"--\" )\n",
    "        \n",
    "    plt.axis('off')\n",
    "\n",
    "    plt.savefig('chessboard_transformed_with_grid.jpg')\n",
    "    return ptsT, ptsL"
   ]
  },
  {
   "cell_type": "code",
   "execution_count": 7,
   "id": "057daeb5-268d-4655-b390-d4257020ee5f",
   "metadata": {
    "ExecuteTime": {
     "end_time": "2024-01-25T12:55:44.686833Z",
     "start_time": "2024-01-25T12:55:44.681158Z"
    }
   },
   "outputs": [],
   "source": [
    "# detects chess pieces\n",
    "\n",
    "def chess_pieces_detector(image):\n",
    "\n",
    "    weights_v1 = \"weights/best_detection.pt\"\n",
    "    weights_v2 = \"weights/best_detection2.pt\"\n",
    "    weights_v3 = \"weights/best_detection3.pt\"\n",
    "    \n",
    "    model_trained = YOLO(weights_v2)\n",
    "    results = model_trained.predict(source=image, line_width=1, conf=0.5, augment=False, save_txt=True, save=True)\n",
    "    \n",
    "    boxes = results[0].boxes\n",
    "    detections = boxes.xyxy.numpy()\n",
    "    \n",
    "    return detections, boxes"
   ]
  },
  {
   "cell_type": "code",
   "execution_count": 8,
   "id": "615131b3-48e0-400c-aecc-51f4445b9da3",
   "metadata": {
    "ExecuteTime": {
     "end_time": "2024-01-25T12:55:44.934298Z",
     "start_time": "2024-01-25T12:55:44.929013Z"
    }
   },
   "outputs": [],
   "source": [
    "# connects detected piece to the right square\n",
    "\n",
    "def connect_square_to_detection(detections, square):\n",
    "    \n",
    "    di = {0: 'B', 1: 'K', 2: 'N',\n",
    "      3: 'P', 4: 'Q', 5: 'R', \n",
    "      6: 'b', 7: 'k', 8: 'n',\n",
    "      9: 'p', 10: 'q', 11: 'r'}\n",
    "\n",
    "    list_of_iou=[]\n",
    "    \n",
    "    for i in detections:\n",
    "\n",
    "        box_x1 = i[0]\n",
    "        box_y1 = i[1]\n",
    "\n",
    "        box_x2 = i[2]\n",
    "        box_y2 = i[1]\n",
    "\n",
    "        box_x3 = i[2]\n",
    "        box_y3 = i[3]\n",
    "\n",
    "        box_x4 = i[0]\n",
    "        box_y4 = i[3]\n",
    "        \n",
    "        #cut high pieces        \n",
    "        if box_y4 - box_y1 > 60:\n",
    "            box_complete = np.array([[box_x1,box_y1+40], [box_x2, box_y2+40], [box_x3, box_y3], [box_x4, box_y4]])\n",
    "        else:\n",
    "            box_complete = np.array([[box_x1,box_y1], [box_x2, box_y2], [box_x3, box_y3], [box_x4, box_y4]])\n",
    "            \n",
    "        #until here\n",
    "\n",
    "        list_of_iou.append(calculate_iou(box_complete, square))\n",
    "\n",
    "    num = list_of_iou.index(max(list_of_iou))\n",
    "\n",
    "    piece = boxes.cls[num].tolist()\n",
    "    \n",
    "    if max(list_of_iou) > 0.15:\n",
    "        piece = boxes.cls[num].tolist()\n",
    "        return di[piece]\n",
    "    \n",
    "    else:\n",
    "        piece = \"empty\"\n",
    "        return piece"
   ]
  },
  {
   "cell_type": "markdown",
   "id": "e30fe910-fb07-4499-9b17-f26b27fbd90c",
   "metadata": {
    "jp-MarkdownHeadingCollapsed": true
   },
   "source": [
    "## Script for dataset of transformed images"
   ]
  },
  {
   "cell_type": "code",
   "execution_count": 9,
   "id": "9d16db83-682c-4648-8f72-8f63f7726151",
   "metadata": {
    "ExecuteTime": {
     "end_time": "2024-01-25T12:55:45.287401Z",
     "start_time": "2024-01-25T12:55:45.277742Z"
    }
   },
   "outputs": [
    {
     "data": {
      "text/plain": "\"\\nimport os\\nimport PIL\\nfrom PIL import Image \\n\\n\\ntask_dir = 'E:/jpeg'\\ntarget_dir = 'transformed'\\n\\ncurrent_dir = os.getcwd()\\n\\ni = 0\\n\\nfor img in os.listdir(os.path.join(task_dir)):\\n    image = img\\n    print(img)\\n    corners = detect_corners(os.path.join(current_dir, task_dir, image))\\n    transformed_img = four_point_transform(os.path.join(current_dir, task_dir, image), corners)\\n    \\n    #save image\\n    transformed_img = transformed_img.save(os.path.join(current_dir, target_dir, str(i)+'.jpg'))\\n    i+=1\\n\""
     },
     "execution_count": 9,
     "metadata": {},
     "output_type": "execute_result"
    }
   ],
   "source": [
    "'''\n",
    "import os\n",
    "import PIL\n",
    "from PIL import Image \n",
    "\n",
    "\n",
    "task_dir = 'E:/jpeg'\n",
    "target_dir = 'transformed'\n",
    "\n",
    "current_dir = os.getcwd()\n",
    "\n",
    "i = 0\n",
    "\n",
    "for img in os.listdir(os.path.join(task_dir)):\n",
    "    image = img\n",
    "    print(img)\n",
    "    corners = detect_corners(os.path.join(current_dir, task_dir, image))\n",
    "    transformed_img = four_point_transform(os.path.join(current_dir, task_dir, image), corners)\n",
    "    \n",
    "    #save image\n",
    "    transformed_img = transformed_img.save(os.path.join(current_dir, target_dir, str(i)+'.jpg'))\n",
    "    i+=1\n",
    "'''\n",
    "    "
   ]
  },
  {
   "cell_type": "code",
   "execution_count": 9,
   "id": "150c3f62-ad9f-4053-a5d9-bc488eeaba26",
   "metadata": {
    "ExecuteTime": {
     "end_time": "2024-01-25T12:55:45.503690Z",
     "start_time": "2024-01-25T12:55:45.496813Z"
    }
   },
   "outputs": [],
   "source": []
  },
  {
   "cell_type": "markdown",
   "id": "14f86d56-0c1c-4864-a4f0-bcdd017735f9",
   "metadata": {},
   "source": [
    "## Complete"
   ]
  },
  {
   "cell_type": "code",
   "execution_count": 9,
   "id": "d2ec2439-e8e0-4793-ae99-d76cd26f194d",
   "metadata": {
    "ExecuteTime": {
     "end_time": "2024-01-25T12:55:46.318979Z",
     "start_time": "2024-01-25T12:55:46.306478Z"
    }
   },
   "outputs": [],
   "source": [
    "   "
   ]
  },
  {
   "cell_type": "code",
   "execution_count": 10,
   "id": "6012ceaf-dfc2-4108-8be3-c5ad35c420c5",
   "metadata": {
    "ExecuteTime": {
     "end_time": "2024-01-25T12:55:46.767883Z",
     "start_time": "2024-01-25T12:55:46.550023Z"
    }
   },
   "outputs": [
    {
     "ename": "NameError",
     "evalue": "name 'YOLO' is not defined",
     "output_type": "error",
     "traceback": [
      "\u001B[0;31m---------------------------------------------------------------------------\u001B[0m",
      "\u001B[0;31mNameError\u001B[0m                                 Traceback (most recent call last)",
      "Cell \u001B[0;32mIn[10], line 3\u001B[0m\n\u001B[1;32m      1\u001B[0m image \u001B[38;5;241m=\u001B[39m \u001B[38;5;124m'\u001B[39m\u001B[38;5;124mimages/2.jpeg\u001B[39m\u001B[38;5;124m'\u001B[39m\n\u001B[0;32m----> 3\u001B[0m corners \u001B[38;5;241m=\u001B[39m \u001B[43mdetect_corners\u001B[49m\u001B[43m(\u001B[49m\u001B[43mimage\u001B[49m\u001B[43m)\u001B[49m\n\u001B[1;32m      5\u001B[0m \u001B[38;5;28mprint\u001B[39m(corners)\n\u001B[1;32m      7\u001B[0m transformed_image \u001B[38;5;241m=\u001B[39m four_point_transform(image, corners)\n",
      "Cell \u001B[0;32mIn[4], line 4\u001B[0m, in \u001B[0;36mdetect_corners\u001B[0;34m(image)\u001B[0m\n\u001B[1;32m      1\u001B[0m \u001B[38;5;28;01mdef\u001B[39;00m \u001B[38;5;21mdetect_corners\u001B[39m(image):\n\u001B[1;32m      2\u001B[0m     \n\u001B[1;32m      3\u001B[0m     \u001B[38;5;66;03m# YOLO model trained to detect corners on a chessboard\u001B[39;00m\n\u001B[0;32m----> 4\u001B[0m     model_trained \u001B[38;5;241m=\u001B[39m \u001B[43mYOLO\u001B[49m(\u001B[38;5;124m\"\u001B[39m\u001B[38;5;124mweights/best_my_corners.pt\u001B[39m\u001B[38;5;124m\"\u001B[39m)\n\u001B[1;32m      5\u001B[0m     results \u001B[38;5;241m=\u001B[39m model_trained\u001B[38;5;241m.\u001B[39mpredict(source\u001B[38;5;241m=\u001B[39mimage, line_width\u001B[38;5;241m=\u001B[39m\u001B[38;5;241m1\u001B[39m, conf\u001B[38;5;241m=\u001B[39m\u001B[38;5;241m0.25\u001B[39m, save_txt\u001B[38;5;241m=\u001B[39m\u001B[38;5;28;01mTrue\u001B[39;00m, save\u001B[38;5;241m=\u001B[39m\u001B[38;5;28;01mTrue\u001B[39;00m)\n\u001B[1;32m      7\u001B[0m     \u001B[38;5;66;03m# get the corners coordinates from the model\u001B[39;00m\n",
      "\u001B[0;31mNameError\u001B[0m: name 'YOLO' is not defined"
     ]
    }
   ],
   "source": [
    "image = 'images/2.jpeg'\n",
    "\n",
    "corners = detect_corners(image)\n",
    "\n",
    "print(corners)\n",
    "\n",
    "transformed_image = four_point_transform(image, corners)\n",
    "\n",
    "ptsT, ptsL = plot_grid_on_transformed_image(transformed_image)\n",
    "\n",
    "detections, boxes = chess_pieces_detector(transformed_image)\n",
    "\n",
    "#calculate the grid\n",
    "\n",
    "xA = ptsT[0][0]\n",
    "xB = ptsT[1][0]\n",
    "xC = ptsT[2][0]\n",
    "xD = ptsT[3][0]\n",
    "xE = ptsT[4][0]\n",
    "xF = ptsT[5][0]\n",
    "xG = ptsT[6][0]\n",
    "xH = ptsT[7][0]\n",
    "xI = ptsT[8][0]\n",
    "\n",
    "y9 = ptsL[0][1]\n",
    "y8 = ptsL[1][1] \n",
    "y7 = ptsL[2][1] \n",
    "y6 = ptsL[3][1]  \n",
    "y5 = ptsL[4][1]  \n",
    "y4 = ptsL[5][1] \n",
    "y3 = ptsL[6][1]  \n",
    "y2 = ptsL[7][1] \n",
    "y1 = ptsL[8][1] \n",
    "\n",
    "#calculate all the squares\n",
    "\n",
    "a8 = np.array([[xA,y9], [xB, y9], [xB, y8], [xA, y8]])\n",
    "a7 = np.array([[xA,y8], [xB, y8], [xB, y7], [xA, y7]])\n",
    "a6 = np.array([[xA,y7], [xB, y7], [xB, y6], [xA, y6]])\n",
    "a5 = np.array([[xA,y6], [xB, y6], [xB, y5], [xA, y5]])\n",
    "a4 = np.array([[xA,y5], [xB, y5], [xB, y4], [xA, y4]])\n",
    "a3 = np.array([[xA,y4], [xB, y4], [xB, y3], [xA, y3]])\n",
    "a2 = np.array([[xA,y3], [xB, y3], [xB, y2], [xA, y2]])\n",
    "a1 = np.array([[xA,y2], [xB, y2], [xB, y1], [xA, y1]])\n",
    "\n",
    "b8 = np.array([[xB,y9], [xC, y9], [xC, y8], [xB, y8]])\n",
    "b7 = np.array([[xB,y8], [xC, y8], [xC, y7], [xB, y7]])\n",
    "b6 = np.array([[xB,y7], [xC, y7], [xC, y6], [xB, y6]])\n",
    "b5 = np.array([[xB,y6], [xC, y6], [xC, y5], [xB, y5]])\n",
    "b4 = np.array([[xB,y5], [xC, y5], [xC, y4], [xB, y4]])\n",
    "b3 = np.array([[xB,y4], [xC, y4], [xC, y3], [xB, y3]])\n",
    "b2 = np.array([[xB,y3], [xC, y3], [xC, y2], [xB, y2]])\n",
    "b1 = np.array([[xB,y2], [xC, y2], [xC, y1], [xB, y1]])\n",
    "\n",
    "c8 = np.array([[xC,y9], [xD, y9], [xD, y8], [xC, y8]])\n",
    "c7 = np.array([[xC,y8], [xD, y8], [xD, y7], [xC, y7]])\n",
    "c6 = np.array([[xC,y7], [xD, y7], [xD, y6], [xC, y6]])\n",
    "c5 = np.array([[xC,y6], [xD, y6], [xD, y5], [xC, y5]])\n",
    "c4 = np.array([[xC,y5], [xD, y5], [xD, y4], [xC, y4]])\n",
    "c3 = np.array([[xC,y4], [xD, y4], [xD, y3], [xC, y3]])\n",
    "c2 = np.array([[xC,y3], [xD, y3], [xD, y2], [xC, y2]])\n",
    "c1 = np.array([[xC,y2], [xD, y2], [xD, y1], [xC, y1]])\n",
    "\n",
    "d8 = np.array([[xD,y9], [xE, y9], [xE, y8], [xD, y8]])\n",
    "d7 = np.array([[xD,y8], [xE, y8], [xE, y7], [xD, y7]])\n",
    "d6 = np.array([[xD,y7], [xE, y7], [xE, y6], [xD, y6]])\n",
    "d5 = np.array([[xD,y6], [xE, y6], [xE, y5], [xD, y5]])\n",
    "d4 = np.array([[xD,y5], [xE, y5], [xE, y4], [xD, y4]])\n",
    "d3 = np.array([[xD,y4], [xE, y4], [xE, y3], [xD, y3]])\n",
    "d2 = np.array([[xD,y3], [xE, y3], [xE, y2], [xD, y2]])\n",
    "d1 = np.array([[xD,y2], [xE, y2], [xE, y1], [xD, y1]])\n",
    "\n",
    "e8 = np.array([[xE,y9], [xF, y9], [xF, y8], [xE, y8]])\n",
    "e7 = np.array([[xE,y8], [xF, y8], [xF, y7], [xE, y7]])\n",
    "e6 = np.array([[xE,y7], [xF, y7], [xF, y6], [xE, y6]])\n",
    "e5 = np.array([[xE,y6], [xF, y6], [xF, y5], [xE, y5]])\n",
    "e4 = np.array([[xE,y5], [xF, y5], [xF, y4], [xE, y4]])\n",
    "e3 = np.array([[xE,y4], [xF, y4], [xF, y3], [xE, y3]])\n",
    "e2 = np.array([[xE,y3], [xF, y3], [xF, y2], [xE, y2]])\n",
    "e1 = np.array([[xE,y2], [xF, y2], [xF, y1], [xE, y1]])\n",
    "\n",
    "f8 = np.array([[xF,y9], [xG, y9], [xG, y8], [xF, y8]])\n",
    "f7 = np.array([[xF,y8], [xG, y8], [xG, y7], [xF, y7]])\n",
    "f6 = np.array([[xF,y7], [xG, y7], [xG, y6], [xF, y6]])\n",
    "f5 = np.array([[xF,y6], [xG, y6], [xG, y5], [xF, y5]])\n",
    "f4 = np.array([[xF,y5], [xG, y5], [xG, y4], [xF, y4]])\n",
    "f3 = np.array([[xF,y4], [xG, y4], [xG, y3], [xF, y3]])\n",
    "f2 = np.array([[xF,y3], [xG, y3], [xG, y2], [xF, y2]])\n",
    "f1 = np.array([[xF,y2], [xG, y2], [xG, y1], [xF, y1]])\n",
    "\n",
    "g8 = np.array([[xG,y9], [xH, y9], [xH, y8], [xG, y8]])\n",
    "g7 = np.array([[xG,y8], [xH, y8], [xH, y7], [xG, y7]])\n",
    "g6 = np.array([[xG,y7], [xH, y7], [xH, y6], [xG, y6]])\n",
    "g5 = np.array([[xG,y6], [xH, y6], [xH, y5], [xG, y5]])\n",
    "g4 = np.array([[xG,y5], [xH, y5], [xH, y4], [xG, y4]])\n",
    "g3 = np.array([[xG,y4], [xH, y4], [xH, y3], [xG, y3]])\n",
    "g2 = np.array([[xG,y3], [xH, y3], [xH, y2], [xG, y2]])\n",
    "g1 = np.array([[xG,y2], [xH, y2], [xH, y1], [xG, y1]])\n",
    "\n",
    "h8 = np.array([[xH,y9], [xI, y9], [xI, y8], [xH, y8]])\n",
    "h7 = np.array([[xH,y8], [xI, y8], [xI, y7], [xH, y7]])\n",
    "h6 = np.array([[xH,y7], [xI, y7], [xI, y6], [xH, y6]])\n",
    "h5 = np.array([[xH,y6], [xI, y6], [xI, y5], [xH, y5]])\n",
    "h4 = np.array([[xH,y5], [xI, y5], [xI, y4], [xH, y4]])\n",
    "h3 = np.array([[xH,y4], [xI, y4], [xI, y3], [xH, y3]])\n",
    "h2 = np.array([[xH,y3], [xI, y3], [xI, y2], [xH, y2]])\n",
    "h1 = np.array([[xH,y2], [xI, y2], [xI, y1], [xH, y1]])\n",
    "\n",
    "# transforms the squares to write FEN\n",
    "\n",
    "FEN_annotation = [[a8, b8, c8, d8, e8, f8, g8, h8],\n",
    "                [a7, b7, c7, d7, e7, f7, g7, h7],\n",
    "                [a6, b6, c6, d6, e6, f6, g6, h6],\n",
    "                [a5, b5, c5, d5, e5, f5, g5, h5],\n",
    "                [a4, b4, c4, d4, e4, f4, g4, h4],\n",
    "                [a3, b3, c3, d3, e3, f3, g3, h3],\n",
    "                [a2, b2, c2, d2, e2, f2, g2, h2],\n",
    "                [a1, b1, c1, d1, e1, f1, g1, h1]]\n",
    "\n",
    "\n",
    "board_FEN = []\n",
    "corrected_FEN = []\n",
    "complete_board_FEN = []\n",
    "\n",
    "for line in FEN_annotation:\n",
    "    line_to_FEN = []\n",
    "    for square in line:\n",
    "        piece_on_square = connect_square_to_detection(detections, square)    \n",
    "        line_to_FEN.append(piece_on_square)\n",
    "    corrected_FEN = [i.replace('empty', '1') for i in line_to_FEN]\n",
    "    \n",
    "    board_FEN.append(corrected_FEN)\n",
    "    \n",
    "complete_board_FEN = [''.join(line) for line in board_FEN] \n",
    "\n",
    "to_FEN = '/'.join(complete_board_FEN)\n",
    "\n",
    "print(\"https://lichess.org/analysis/\"+to_FEN)"
   ]
  },
  {
   "cell_type": "code",
   "execution_count": null,
   "id": "d4605c61-6586-484d-a88a-dc2d78312118",
   "metadata": {
    "ExecuteTime": {
     "start_time": "2024-01-25T12:55:46.750855Z"
    }
   },
   "outputs": [],
   "source": []
  },
  {
   "cell_type": "code",
   "execution_count": null,
   "outputs": [],
   "source": [],
   "metadata": {
    "collapsed": false
   },
   "id": "d7ec3abb137d688c"
  }
 ],
 "metadata": {
  "kernelspec": {
   "display_name": "Python 3 (ipykernel)",
   "language": "python",
   "name": "python3"
  },
  "language_info": {
   "codemirror_mode": {
    "name": "ipython",
    "version": 3
   },
   "file_extension": ".py",
   "mimetype": "text/x-python",
   "name": "python",
   "nbconvert_exporter": "python",
   "pygments_lexer": "ipython3",
   "version": "3.11.4"
  }
 },
 "nbformat": 4,
 "nbformat_minor": 5
}
